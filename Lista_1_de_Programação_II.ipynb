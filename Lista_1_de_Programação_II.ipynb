{
  "nbformat": 4,
  "nbformat_minor": 0,
  "metadata": {
    "colab": {
      "provenance": [],
      "include_colab_link": true
    },
    "kernelspec": {
      "name": "python3",
      "display_name": "Python 3"
    },
    "language_info": {
      "name": "python"
    }
  },
  "cells": [
    {
      "cell_type": "markdown",
      "metadata": {
        "id": "view-in-github",
        "colab_type": "text"
      },
      "source": [
        "<a href=\"https://colab.research.google.com/github/isabella-pila/dogs_cats/blob/main/Lista_1_de_Programa%C3%A7%C3%A3o_II.ipynb\" target=\"_parent\"><img src=\"https://colab.research.google.com/assets/colab-badge.svg\" alt=\"Open In Colab\"/></a>"
      ]
    },
    {
      "cell_type": "markdown",
      "source": [
        "## Definição de Classe e Criação de Objetos"
      ],
      "metadata": {
        "id": "WVua3ZWmZGtk"
      }
    },
    {
      "cell_type": "markdown",
      "source": [
        "1 - Crie uma classe chamada `Carro` com atributos como modelo, ano e cor. Crie um objeto carro e defina seus atributos."
      ],
      "metadata": {
        "id": "ee-mqBWoZL2d"
      }
    },
    {
      "cell_type": "code",
      "execution_count": 44,
      "metadata": {
        "id": "4B66NcPrWKBg",
        "colab": {
          "base_uri": "https://localhost:8080/"
        },
        "outputId": "e9bf50b7-c8d4-4e75-f89f-683c4ced4e6a"
      },
      "outputs": [
        {
          "output_type": "stream",
          "name": "stdout",
          "text": [
            "ano : 2023\n",
            "cor : branco\n",
            "modelo : gol\n",
            "ano : 2023\n",
            "cor : branco\n",
            "modelo : gol\n"
          ]
        }
      ],
      "source": [
        "\n",
        "class Carro:\n",
        "  pass\n",
        "\n",
        "carro = Carro()\n",
        "\n",
        "carro.modelo = \"gol\"\n",
        "carro.ano = \"2023\"\n",
        "carro.cor = \"preto\"\n",
        "print(f\"ano : {carro.ano}\")\n",
        "print(f\"cor : {carro.cor}\")\n",
        "print(f\"modelo : {carro.modelo}\")\n"
      ]
    },
    {
      "cell_type": "markdown",
      "source": [
        "2 -  Crie uma classe chamada `Cachorro` com atributos como nome, idade e raça. Crie vários objetos cachorro com diferentes atributos."
      ],
      "metadata": {
        "id": "cMxPcECSZY_G"
      }
    },
    {
      "cell_type": "code",
      "source": [
        "class Cachorro:\n",
        "  def __init__(self,nome,idade,raca):\n",
        "    self.nome = nome\n",
        "    self.idade = idade\n",
        "    self.raca = raca\n",
        "\n",
        "\n",
        "cachorro1 = Cachorro(\"lila\",4,\"shih tzu\")\n",
        "cachorro2 = Cachorro(\"toto\",2,\"srd\")\n",
        "cachorro3 = Cachorro(\"symon\",4,\"pug\")\n",
        "\n",
        "print(f\"nome: {cachorro1.nome}\")\n",
        "print(f\"idade: {cachorro1.idade}\")\n",
        "print(f\"raça: {cachorro1.raca}\")\n",
        "\n",
        "print(f\"nome: {cachorro2.nome}\")\n",
        "print(f\"idade: {cachorro2.idade}\")\n",
        "print(f\"raça: {cachorro2.raca}\")\n",
        "\n",
        "print(f\"nome: {cachorro3.nome}\")\n",
        "print(f\"idade: {cachorro3.idade}\")\n",
        "print(f\"raça: {cachorro3.raca}\")\n"
      ],
      "metadata": {
        "id": "o1nn59doZej3",
        "colab": {
          "base_uri": "https://localhost:8080/"
        },
        "outputId": "f3c79698-e15e-4538-efe2-b6745d7ca3c7"
      },
      "execution_count": 20,
      "outputs": [
        {
          "output_type": "stream",
          "name": "stdout",
          "text": [
            "nome: lila\n",
            "idade: 4\n",
            "raça: shih tzu\n",
            "nome: toto\n",
            "idade: 2\n",
            "raça: srd\n",
            "nome: symon\n",
            "idade: 4\n",
            "raça: pug\n"
          ]
        }
      ]
    },
    {
      "cell_type": "markdown",
      "source": [
        "3 - Crie uma classe chamada `Pessoa` com atributos como nome, idade e sexo. Crie um objeto pessoa e defina seus atributos."
      ],
      "metadata": {
        "id": "t-W0WdF_ZhTH"
      }
    },
    {
      "cell_type": "code",
      "source": [
        "class Pessoa:\n",
        "  def __init__(self,nome,idade,sexo):\n",
        "    self.nome = nome\n",
        "    self.idade = idade\n",
        "    self.sexo = sexo\n",
        "\n",
        "pessoa = Pessoa(\"isa\",18,\"feminino\")\n",
        "\n",
        "print(f\"{pessoa.nome}\")\n",
        "\n",
        "print(f\"{pessoa.idade}\")\n",
        "\n",
        "print(f\"{pessoa.sexo}\")\n"
      ],
      "metadata": {
        "id": "gP6bUxSjZlER",
        "colab": {
          "base_uri": "https://localhost:8080/"
        },
        "outputId": "cd7ef1e5-cd84-4947-a4dc-eaec21527e60"
      },
      "execution_count": 5,
      "outputs": [
        {
          "output_type": "stream",
          "name": "stdout",
          "text": [
            "isa\n",
            "18\n",
            "feminino\n"
          ]
        }
      ]
    },
    {
      "cell_type": "markdown",
      "source": [
        "## Atributos e Métodos"
      ],
      "metadata": {
        "id": "r3silZXTZmkG"
      }
    },
    {
      "cell_type": "markdown",
      "source": [
        "1 - Adicione um método `acelerar` à classe `Carro` que aumenta a velocidade do carro em 10 unidades."
      ],
      "metadata": {
        "id": "s_4Cwt9fZpLj"
      }
    },
    {
      "cell_type": "code",
      "source": [
        "class Carro:\n",
        "  def __init__(self,ano,cor,modelo):\n",
        "    self.ano = ano\n",
        "    self.cor = cor\n",
        "    self.modelo = modelo\n",
        "\n",
        "\n",
        "  def acelerar(self,velocidade):\n",
        "    self.velocidade = velocidade\n",
        "    self.velocidade += 10\n",
        "\n",
        "\n",
        "\n",
        "\n",
        "\n",
        "carro = Carro(\"2023\", \"branco\", \"gol\")\n",
        "carro.acelerar(4)\n",
        "print(f\"ano : {carro.ano}\")\n",
        "print(f\"cor : {carro.cor}\")\n",
        "print(f\"modelo : {carro.modelo}\")\n",
        "print(f\"velocidade: {carro.velocidade}\")\n"
      ],
      "metadata": {
        "id": "CqhUja1vZwq-",
        "colab": {
          "base_uri": "https://localhost:8080/"
        },
        "outputId": "1196e2cf-cf21-401a-d05f-ba21f16d8571"
      },
      "execution_count": 9,
      "outputs": [
        {
          "output_type": "stream",
          "name": "stdout",
          "text": [
            "ano : 2023\n",
            "cor : branco\n",
            "modelo : gol\n",
            "velocidade: 14\n"
          ]
        }
      ]
    },
    {
      "cell_type": "markdown",
      "source": [
        "2 - Adicione um método `latir` à classe `Cachorro` que faz o cachorro latir."
      ],
      "metadata": {
        "id": "joQyiOvwZw63"
      }
    },
    {
      "cell_type": "code",
      "source": [
        "class Cachorro:\n",
        "    def __init__(self, nome, idade, raca):\n",
        "        self.nome = nome\n",
        "        self.idade = idade\n",
        "        self.raca = raca\n",
        "        self.latindo = False\n",
        "\n",
        "    def latir(self):\n",
        "        self.latindo = True\n",
        "\n",
        "\n",
        "cachorro1 = Cachorro(\"Lila\", 4, \"Shih Tzu\")\n",
        "cachorro2 = Cachorro(\"Toto\", 2, \"SRD\")\n",
        "cachorro3 = Cachorro(\"Symon\", 4, \"Pug\")\n",
        "\n",
        "cachorro1.latir()\n",
        "\n",
        "print(f\"{cachorro1.nome} está latindo: {cachorro1.latindo}\")\n",
        "print(f\"{cachorro2.nome} está latindo: {cachorro2.latindo}\")\n",
        "print(f\"{cachorro3.nome} está latindo: {cachorro3.latindo}\")\n"
      ],
      "metadata": {
        "id": "mOqMG7R0Z1_4",
        "colab": {
          "base_uri": "https://localhost:8080/"
        },
        "outputId": "7b3d05ea-85f5-43c3-9be0-7db8b3eeab6c"
      },
      "execution_count": 33,
      "outputs": [
        {
          "output_type": "stream",
          "name": "stdout",
          "text": [
            "Lila está latindo: True\n",
            "Toto está latindo: False\n",
            "Symon está latindo: False\n"
          ]
        }
      ]
    },
    {
      "cell_type": "markdown",
      "source": [
        "3 - Adicione um método `comer` à classe `Pessoa` que imprime uma mensagem dizendo que a pessoa está comendo."
      ],
      "metadata": {
        "id": "1L_eh4GMZ2H8"
      }
    },
    {
      "cell_type": "code",
      "source": [
        "class Pessoa:\n",
        "  def __init__(self,nome,idade,sexo):\n",
        "    self.nome = nome\n",
        "    self.idade = idade\n",
        "    self.sexo = sexo\n",
        "    self.comendo = False\n",
        "\n",
        "  def comer(self, comer=False):\n",
        "    self.comendo = comer\n",
        "\n",
        "    if comer == True:\n",
        "      print(f\"{pessoa.nome} esta comedo\")\n",
        "    else:\n",
        "      print(\"a pessoa nao esta comendo\")\n",
        "\n",
        "\n",
        "\n",
        "pessoa = Pessoa(\"isa\",18,\"feminino\")\n",
        "\n",
        "pessoa.comer(True)\n",
        "\n",
        "print(f\"{pessoa.nome}\")\n",
        "\n",
        "print(f\"{pessoa.idade}\")\n",
        "\n",
        "print(f\"{pessoa.sexo}\")\n",
        "\n"
      ],
      "metadata": {
        "id": "1VratqVgZ9b6",
        "colab": {
          "base_uri": "https://localhost:8080/"
        },
        "outputId": "4042c218-59a7-4af0-e777-a96cee3a64b3"
      },
      "execution_count": 43,
      "outputs": [
        {
          "output_type": "stream",
          "name": "stdout",
          "text": [
            "isa esta comedo\n",
            "isa\n",
            "18\n",
            "feminino\n"
          ]
        }
      ]
    },
    {
      "cell_type": "markdown",
      "source": [
        "## Construtor e Destrutor"
      ],
      "metadata": {
        "id": "W8HoAXAmZ7oz"
      }
    },
    {
      "cell_type": "markdown",
      "source": [
        "1 - Modifique a classe `Carro` para incluir um construtor que define os atributos do carro ao criar um objeto."
      ],
      "metadata": {
        "id": "A8duSdONZ_wF"
      }
    },
    {
      "cell_type": "code",
      "source": [
        "class Carro:\n",
        "  def __init__(self,ano,cor,modelo):\n",
        "    self.ano = ano\n",
        "    self.cor = cor\n",
        "    self.modelo = modelo\n",
        "\n",
        "carro = Carro(\"2023\", \"branco\", \"gol\")\n",
        "print(f\"ano : {carro.ano}\")\n",
        "print(f\"cor : {carro.cor}\")\n",
        "print(f\"modelo : {carro.modelo}\")"
      ],
      "metadata": {
        "id": "0vemDuoVaEq8"
      },
      "execution_count": null,
      "outputs": []
    },
    {
      "cell_type": "markdown",
      "source": [
        "2 - Crie um destrutor para a classe `Pessoa` que imprime uma mensagem quando uma pessoa é destruída."
      ],
      "metadata": {
        "id": "KptSk9NDaEzh"
      }
    },
    {
      "cell_type": "code",
      "source": [
        "class Pessoa:\n",
        "  def __init__(self,nome,idade,sexo):\n",
        "    self.nome = nome\n",
        "    self.idade = idade\n",
        "    self.sexo = sexo\n",
        "  def __del__(self):\n",
        "    print(f'Pessoa destruída: {self.nome}')\n",
        "\n",
        "\n",
        "pessoa = Pessoa(\"isa\",18,\"feminino\")\n",
        "\n",
        "del pessoa"
      ],
      "metadata": {
        "id": "kPpompAdaJOW",
        "colab": {
          "base_uri": "https://localhost:8080/"
        },
        "outputId": "0d596e37-9691-4fd3-b7dd-3d2d2cc95333"
      },
      "execution_count": 2,
      "outputs": [
        {
          "output_type": "stream",
          "name": "stdout",
          "text": [
            "Pessoa destruída: isa\n"
          ]
        }
      ]
    },
    {
      "cell_type": "markdown",
      "source": [
        "## Classe Container e Encapsulamento"
      ],
      "metadata": {
        "id": "oyDeLQi_aJVX"
      }
    },
    {
      "cell_type": "markdown",
      "source": [
        "1 - Crie uma classe chamada `Biblioteca` que atua como um container para livros. Ela deve ter métodos para adicionar e remover livros."
      ],
      "metadata": {
        "id": "4jBIC2tJaL0w"
      }
    },
    {
      "cell_type": "code",
      "source": [
        "class Biblioteca:\n",
        "  def __init__(self):\n",
        "    self.livros = []\n",
        "\n",
        "  def add_livros(self,livro):\n",
        "\n",
        "    self.livros.append(livro)\n",
        "\n",
        "  def remove_livros(self,livro):\n",
        "    self.livros.remove(livro)\n",
        "\n",
        "  def mostra_livros(self):\n",
        "    for livro in self.livros:\n",
        "      print(livro)\n",
        "# criar uma instacia\n",
        "\n",
        "livroo = Biblioteca()\n",
        "\n",
        "livroo.add_livros(\"bela e a fera\")\n",
        "livroo.add_livros(\"pequeno principe\")\n",
        "livroo.add_livros(\"O Conto da Aia\")\n",
        "\n",
        "print(\"livros carrinho\")\n",
        "\n",
        "livroo.mostra_livros()\n",
        "\n",
        "print(\"removendo livro\")\n",
        "livroo.remove_livros(\"O Conto da Aia\")\n",
        "\n",
        "livroo.mostra_livros()\n",
        "\n"
      ],
      "metadata": {
        "id": "4DOp5gUSaSs3",
        "colab": {
          "base_uri": "https://localhost:8080/"
        },
        "outputId": "4662e963-3dce-42c7-9488-025af3115ad3"
      },
      "execution_count": 4,
      "outputs": [
        {
          "output_type": "stream",
          "name": "stdout",
          "text": [
            "livros carrinho\n",
            "bela e a fera\n",
            "pequeno principe\n",
            "O Conto da Aia\n",
            "removendo livro\n",
            "bela e a fera\n",
            "pequeno principe\n"
          ]
        }
      ]
    },
    {
      "cell_type": "markdown",
      "source": [
        "2 - Encapsule os atributos da classe `Pessoa` para torná-los privados e forneça métodos `get` e `set` para acessá-los."
      ],
      "metadata": {
        "id": "6QZNEEnOaS08"
      }
    },
    {
      "cell_type": "code",
      "source": [
        "class Pessoa:\n",
        "  def __init__(self,nome,idade,sexo):\n",
        "    self._nome = nome\n",
        "    self._idade = idade\n",
        "    self._sexo = sexo\n",
        "\n",
        "\n",
        "  def get_nome(self):\n",
        "      return self._nome\n",
        "\n",
        "  def get_idade(self):\n",
        "      return self._idade\n",
        "\n",
        "  def get_sexo(self):\n",
        "      return self._sexo\n",
        "\n",
        "  def set_nome(self,novo_nome):\n",
        "    self._nome = novo_nome\n",
        "\n",
        "  def set_sexo(self,novo_sexo):\n",
        "    self._sexo = novo_sexo\n",
        "\n",
        "  def set_idade(self,nova_idade):\n",
        "    self._idade = nova_idade\n",
        "\n",
        "\n",
        "pessoa = Pessoa(\"isa\",18,\"feminino\")\n",
        "\n",
        "#print(\"Nome:\", pessoa.get_nome())\n",
        "#print(\"Idade:\", pessoa.get_idade())\n",
        "#print(\"sexo:\", pessoa.get_sexo())\n",
        "\n",
        "pessoa.set_nome(\"pedro\")\n",
        "pessoa.set_idade(\"16\")\n",
        "pessoa.set_sexo(\"masculino\")\n",
        "\n",
        "print(\"Nome:\", pessoa.get_nome())\n",
        "print(\"Idade:\", pessoa.get_idade())\n",
        "print(f\"sexo:{pessoa.get_sexo()}\")"
      ],
      "metadata": {
        "id": "tavxYvpVaapu",
        "colab": {
          "base_uri": "https://localhost:8080/"
        },
        "outputId": "4682512e-0e0d-4884-e706-96286e1a1f55"
      },
      "execution_count": 11,
      "outputs": [
        {
          "output_type": "stream",
          "name": "stdout",
          "text": [
            "Nome: pedro\n",
            "Idade: 16\n",
            "sexo:masculino\n"
          ]
        }
      ]
    },
    {
      "cell_type": "markdown",
      "source": [
        "## Métodos de Classe e Métodos Estáticos"
      ],
      "metadata": {
        "id": "HqlFmdMQaedM"
      }
    },
    {
      "cell_type": "markdown",
      "source": [
        "1 - Crie uma classe chamada `Matematica` com um método de classe que calcula a média de uma lista de números."
      ],
      "metadata": {
        "id": "mhYxkmiGafaZ"
      }
    },
    {
      "cell_type": "code",
      "source": [],
      "metadata": {
        "id": "c4A6UJnUakX3"
      },
      "execution_count": null,
      "outputs": []
    },
    {
      "cell_type": "markdown",
      "source": [
        "2 - Crie um método estático na classe `Carro` que imprime uma mensagem genérica sobre carros."
      ],
      "metadata": {
        "id": "FgrBUCsAamB2"
      }
    },
    {
      "cell_type": "code",
      "source": [],
      "metadata": {
        "id": "QawECEckao4Z"
      },
      "execution_count": null,
      "outputs": []
    },
    {
      "cell_type": "markdown",
      "source": [
        "## Slots\n"
      ],
      "metadata": {
        "id": "JY1YeKQ3aqVo"
      }
    },
    {
      "cell_type": "markdown",
      "source": [
        "1 - Defina a classe `Produto` com atributos como `nome`, `preço` e `SKU`. Use slots para otimizar a memória."
      ],
      "metadata": {
        "id": "JVk81A86aruK"
      }
    },
    {
      "cell_type": "code",
      "source": [],
      "metadata": {
        "id": "-4DF9dmQa6lO"
      },
      "execution_count": null,
      "outputs": []
    },
    {
      "cell_type": "markdown",
      "source": [
        "2 - Crie uma classe `Estudante` com atributos como `nome`, `idade` e `matrícula`. Use slots para definir os atributos."
      ],
      "metadata": {
        "id": "aHeeN7_Ua7O3"
      }
    },
    {
      "cell_type": "code",
      "source": [],
      "metadata": {
        "id": "2QQ291JubCK6"
      },
      "execution_count": null,
      "outputs": []
    },
    {
      "cell_type": "markdown",
      "source": [
        "## Acesso a Atributos e Encapsulamento"
      ],
      "metadata": {
        "id": "wrCQenEnbEC9"
      }
    },
    {
      "cell_type": "markdown",
      "source": [
        "1 - Crie uma classe `ContaBancaria` com um saldo inicial. Forneça métodos para depositar e sacar dinheiro."
      ],
      "metadata": {
        "id": "Z8pOOh6cbFMH"
      }
    },
    {
      "cell_type": "code",
      "source": [],
      "metadata": {
        "id": "Q7drCdPnbLLt"
      },
      "execution_count": null,
      "outputs": []
    },
    {
      "cell_type": "markdown",
      "source": [
        "2 - Implemente encapsulamento na classe `ContaBancaria` para proteger o saldo."
      ],
      "metadata": {
        "id": "wnPEvAfKbJzt"
      }
    },
    {
      "cell_type": "markdown",
      "source": [
        "## Herança"
      ],
      "metadata": {
        "id": "9JfkyA3ybSvl"
      }
    },
    {
      "cell_type": "markdown",
      "source": [
        "1 - Crie uma classe base chamada `Animal` com atributos e métodos comuns a todos os animais."
      ],
      "metadata": {
        "id": "WaBcbAZbbUFR"
      }
    },
    {
      "cell_type": "code",
      "source": [],
      "metadata": {
        "id": "3OjnDUsFbhEg"
      },
      "execution_count": null,
      "outputs": []
    },
    {
      "cell_type": "markdown",
      "source": [
        "2 - Crie classes derivadas como `Cachorro` e `Gato` que herdem da classe `Animal` e adicionem comportamentos específicos."
      ],
      "metadata": {
        "id": "8IHmLYN6bhO6"
      }
    },
    {
      "cell_type": "code",
      "source": [],
      "metadata": {
        "id": "kJ5_42ZnbpKO"
      },
      "execution_count": null,
      "outputs": []
    },
    {
      "cell_type": "markdown",
      "source": [
        "## Polimorfismo"
      ],
      "metadata": {
        "id": "5_Ky9tdubpU4"
      }
    },
    {
      "cell_type": "markdown",
      "source": [
        "1 - Crie um método `emitir_som` na classe `Animal` e implemente versões diferentes desse método nas classes derivadas."
      ],
      "metadata": {
        "id": "ISegpy8Vbqk1"
      }
    },
    {
      "cell_type": "code",
      "source": [],
      "metadata": {
        "id": "HlA4tXyLbxQc"
      },
      "execution_count": null,
      "outputs": []
    },
    {
      "cell_type": "markdown",
      "source": [
        "## Associação entre Classes"
      ],
      "metadata": {
        "id": "wd6qwbwXbxry"
      }
    },
    {
      "cell_type": "markdown",
      "source": [
        "1 - Crie uma classe `Aluno` com um atributo para o nome. Crie uma classe `Curso` com uma lista de alunos matriculados."
      ],
      "metadata": {
        "id": "mKCxZR2Ibz-Z"
      }
    },
    {
      "cell_type": "code",
      "source": [],
      "metadata": {
        "id": "HL3tDLM-b7CO"
      },
      "execution_count": null,
      "outputs": []
    },
    {
      "cell_type": "markdown",
      "source": [
        "## Sobrecarga de Operadores"
      ],
      "metadata": {
        "id": "ihGnhL05b7XU"
      }
    },
    {
      "cell_type": "markdown",
      "source": [
        "1 - Sobrecarregue o operador `+` na classe `Carro` para combinar dois carros em um novo carro com a cor do primeiro e o modelo do segundo."
      ],
      "metadata": {
        "id": "I3-IHNnRb-MC"
      }
    },
    {
      "cell_type": "code",
      "source": [],
      "metadata": {
        "id": "ob0y8en4cJYt"
      },
      "execution_count": null,
      "outputs": []
    },
    {
      "cell_type": "markdown",
      "source": [
        "2 - Sobrecarregue o operador `>` na classe `Pessoa` para comparar a idade de duas pessoas."
      ],
      "metadata": {
        "id": "fKpx3cxYcJtS"
      }
    },
    {
      "cell_type": "code",
      "source": [],
      "metadata": {
        "id": "TRVNGna6cOR_"
      },
      "execution_count": null,
      "outputs": []
    }
  ]
}